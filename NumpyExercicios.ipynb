{
  "nbformat": 4,
  "nbformat_minor": 0,
  "metadata": {
    "colab": {
      "provenance": [],
      "authorship_tag": "ABX9TyMo2Aih9x9t/fAux1uazAx5",
      "include_colab_link": true
    },
    "kernelspec": {
      "name": "python3",
      "display_name": "Python 3"
    },
    "language_info": {
      "name": "python"
    }
  },
  "cells": [
    {
      "cell_type": "markdown",
      "metadata": {
        "id": "view-in-github",
        "colab_type": "text"
      },
      "source": [
        "<a href=\"https://colab.research.google.com/github/FelipeCaetanoSS/Numpy/blob/main/NumpyExercicios.ipynb\" target=\"_parent\"><img src=\"https://colab.research.google.com/assets/colab-badge.svg\" alt=\"Open In Colab\"/></a>"
      ]
    },
    {
      "cell_type": "code",
      "source": [
        "import numpy as np"
      ],
      "metadata": {
        "id": "F6lsGZiq2eU1"
      },
      "execution_count": 2,
      "outputs": []
    },
    {
      "cell_type": "markdown",
      "source": [
        "***Vetores e Matrizes***"
      ],
      "metadata": {
        "id": "cOmGHguV5kKu"
      }
    },
    {
      "cell_type": "code",
      "execution_count": 3,
      "metadata": {
        "colab": {
          "base_uri": "https://localhost:8080/"
        },
        "id": "5fubgTmiz498",
        "outputId": "2f181ef1-cf80-4fbe-fa47-2a321fe0ebbf"
      },
      "outputs": [
        {
          "output_type": "stream",
          "name": "stdout",
          "text": [
            "[0. 0. 0. 0. 0. 0. 0. 0. 0. 0.]\n"
          ]
        }
      ],
      "source": [
        "vetorNulo = np.zeros(10)\n",
        "print(vetorNulo)"
      ]
    },
    {
      "cell_type": "code",
      "source": [
        "vetorNulo_quarto1 = np.zeros(10)\n",
        "vetorNulo_quarto1[3] = 1\n",
        "print(vetorNulo_quarto1)"
      ],
      "metadata": {
        "colab": {
          "base_uri": "https://localhost:8080/"
        },
        "id": "OGaqdTtd12jt",
        "outputId": "21ac0f18-b4c5-4a3f-a2b9-e2beb47867b2"
      },
      "execution_count": 4,
      "outputs": [
        {
          "output_type": "stream",
          "name": "stdout",
          "text": [
            "[0. 0. 0. 1. 0. 0. 0. 0. 0. 0.]\n"
          ]
        }
      ]
    },
    {
      "cell_type": "code",
      "source": [
        "vetor_10a49 = np.arange(10, 50)\n",
        "print(vetor_10a49)"
      ],
      "metadata": {
        "colab": {
          "base_uri": "https://localhost:8080/"
        },
        "id": "IO3M14Qk129N",
        "outputId": "b499dc0e-769f-4782-f79c-daf786ae87a1"
      },
      "execution_count": 5,
      "outputs": [
        {
          "output_type": "stream",
          "name": "stdout",
          "text": [
            "[10 11 12 13 14 15 16 17 18 19 20 21 22 23 24 25 26 27 28 29 30 31 32 33\n",
            " 34 35 36 37 38 39 40 41 42 43 44 45 46 47 48 49]\n"
          ]
        }
      ]
    },
    {
      "cell_type": "code",
      "source": [
        "matriz_3x3 = np.arange(9).reshape(3, 3)\n",
        "print(matriz_3x3)"
      ],
      "metadata": {
        "colab": {
          "base_uri": "https://localhost:8080/"
        },
        "id": "yLmnt-bV1XNo",
        "outputId": "24209c7f-e2c3-46fb-bf87-29c075491f50"
      },
      "execution_count": 6,
      "outputs": [
        {
          "output_type": "stream",
          "name": "stdout",
          "text": [
            "[[0 1 2]\n",
            " [3 4 5]\n",
            " [6 7 8]]\n"
          ]
        }
      ]
    },
    {
      "cell_type": "markdown",
      "source": [
        "***Mínimo e Máximo***"
      ],
      "metadata": {
        "id": "MLQ4ioGl5xhK"
      }
    },
    {
      "cell_type": "code",
      "source": [
        "vetor = np.array([100, 20, 5, 47, 64, 42, 56, 9, 14, 74])"
      ],
      "metadata": {
        "id": "xJVGdSX26Plp"
      },
      "execution_count": 7,
      "outputs": []
    },
    {
      "cell_type": "code",
      "source": [
        "minimo = np.min(vetor)\n",
        "print(\"Valor mínimo:\", minimo)"
      ],
      "metadata": {
        "colab": {
          "base_uri": "https://localhost:8080/"
        },
        "id": "7HXEY8Vz6Gyu",
        "outputId": "e0aa2208-4b8a-4a6d-f4c5-c708901faad3"
      },
      "execution_count": 8,
      "outputs": [
        {
          "output_type": "stream",
          "name": "stdout",
          "text": [
            "Valor mínimo: 5\n"
          ]
        }
      ]
    },
    {
      "cell_type": "code",
      "source": [
        "maximo = np.max(vetor)\n",
        "print(\"Valor máximo:\", maximo)"
      ],
      "metadata": {
        "colab": {
          "base_uri": "https://localhost:8080/"
        },
        "id": "AR_uvSiE6GlA",
        "outputId": "734165a9-1509-444c-d0b3-d307ffa8bdd3"
      },
      "execution_count": 9,
      "outputs": [
        {
          "output_type": "stream",
          "name": "stdout",
          "text": [
            "Valor máximo: 100\n"
          ]
        }
      ]
    },
    {
      "cell_type": "markdown",
      "source": [
        "***Matriz identidade***"
      ],
      "metadata": {
        "id": "mbWe-DBi52KI"
      }
    },
    {
      "cell_type": "code",
      "source": [
        "matriz_identidade = np.eye(3)\n",
        "print(matriz_identidade)"
      ],
      "metadata": {
        "colab": {
          "base_uri": "https://localhost:8080/"
        },
        "id": "z3VSEs686rU3",
        "outputId": "5985da49-eccf-4abf-fb13-26902f8f2d34"
      },
      "execution_count": 10,
      "outputs": [
        {
          "output_type": "stream",
          "name": "stdout",
          "text": [
            "[[1. 0. 0.]\n",
            " [0. 1. 0.]\n",
            " [0. 0. 1.]]\n"
          ]
        }
      ]
    },
    {
      "cell_type": "markdown",
      "source": [
        "***Subtração da média***"
      ],
      "metadata": {
        "id": "ah8YqRLk55DF"
      }
    },
    {
      "cell_type": "code",
      "source": [
        "matriz = np.array([[1, 2, 3],\n",
        "                    [4, 5, 6],\n",
        "                    [7, 8, 9]])\n",
        "\n",
        "media_por_linha = matriz.mean(axis=1, keepdims=True)\n",
        "\n",
        "matriz_subtraida = matriz - media_por_linha\n",
        "\n",
        "print(matriz_subtraida)\n"
      ],
      "metadata": {
        "colab": {
          "base_uri": "https://localhost:8080/"
        },
        "id": "WJoFuMGv5Trj",
        "outputId": "f792020d-acf2-4a7c-8e8b-32836de288ad"
      },
      "execution_count": 11,
      "outputs": [
        {
          "output_type": "stream",
          "name": "stdout",
          "text": [
            "[[-1.  0.  1.]\n",
            " [-1.  0.  1.]\n",
            " [-1.  0.  1.]]\n"
          ]
        }
      ]
    },
    {
      "cell_type": "markdown",
      "source": [
        "***Conceitos Básicos***"
      ],
      "metadata": {
        "id": "kBNT81JI59mg"
      }
    },
    {
      "cell_type": "code",
      "source": [
        "import math"
      ],
      "metadata": {
        "id": "cfxT5g1k5U2H"
      },
      "execution_count": 12,
      "outputs": []
    },
    {
      "cell_type": "code",
      "source": [
        "raio = 5\n",
        "\n",
        "area = math.pi * raio ** 2\n",
        "\n",
        "print(\"Área do círculo com raio 5:\", area)"
      ],
      "metadata": {
        "colab": {
          "base_uri": "https://localhost:8080/"
        },
        "id": "giO4kuB95Ulq",
        "outputId": "08f8331a-0405-4ed7-ad6f-b0c7e98fcd78"
      },
      "execution_count": 13,
      "outputs": [
        {
          "output_type": "stream",
          "name": "stdout",
          "text": [
            "Área do círculo com raio 5: 78.53981633974483\n"
          ]
        }
      ]
    },
    {
      "cell_type": "code",
      "source": [
        "palavra = \"Python\"\n",
        "\n",
        "palavra_invertida = palavra[::-1]\n",
        "\n",
        "print(palavra)\n",
        "print(palavra_invertida)"
      ],
      "metadata": {
        "colab": {
          "base_uri": "https://localhost:8080/"
        },
        "id": "Sd-OhQPi5Ufr",
        "outputId": "1255d212-bb8c-4ba0-8d98-22cd34a9cb16"
      },
      "execution_count": 14,
      "outputs": [
        {
          "output_type": "stream",
          "name": "stdout",
          "text": [
            "Python\n",
            "nohtyP\n"
          ]
        }
      ]
    },
    {
      "cell_type": "code",
      "source": [
        "lista = [1, 2, 3, 4, 5, 6, 7, 8, 9]\n",
        "\n",
        "soma_lista = sum(lista)\n",
        "\n",
        "print(soma_lista)"
      ],
      "metadata": {
        "id": "cuzxLoZu5UXZ",
        "colab": {
          "base_uri": "https://localhost:8080/"
        },
        "outputId": "24518761-6aab-47f6-a9da-8032ccccaabc"
      },
      "execution_count": 1,
      "outputs": [
        {
          "output_type": "stream",
          "name": "stdout",
          "text": [
            "45\n"
          ]
        }
      ]
    },
    {
      "cell_type": "code",
      "source": [
        "numero = 84\n",
        "\n",
        "if numero % 2 == 0:\n",
        "  print(f\"O Número é par\")\n",
        "\n",
        "else:\n",
        "  print(f\"O Número é ímpar\")"
      ],
      "metadata": {
        "id": "RrbZdfAb5ULH",
        "colab": {
          "base_uri": "https://localhost:8080/"
        },
        "outputId": "1a1ad449-9525-4018-d686-a73aa688f19c"
      },
      "execution_count": 21,
      "outputs": [
        {
          "output_type": "stream",
          "name": "stdout",
          "text": [
            "O Número é par\n"
          ]
        }
      ]
    },
    {
      "cell_type": "code",
      "source": [
        "for n in range(1, 11):\n",
        "  if n == 5:\n",
        "    continue\n",
        "  print(n)"
      ],
      "metadata": {
        "colab": {
          "base_uri": "https://localhost:8080/"
        },
        "id": "qTBXJydn5u3p",
        "outputId": "d31c1a5a-57f3-4720-a257-22c4ff331b29"
      },
      "execution_count": 22,
      "outputs": [
        {
          "output_type": "stream",
          "name": "stdout",
          "text": [
            "1\n",
            "2\n",
            "3\n",
            "4\n",
            "6\n",
            "7\n",
            "8\n",
            "9\n",
            "10\n"
          ]
        }
      ]
    },
    {
      "cell_type": "code",
      "source": [
        "def fatorial(n):\n",
        "    if n == 0 or n == 1:\n",
        "        return 1\n",
        "    else:\n",
        "        return n * fatorial(n - 1)\n",
        "\n",
        "numero = 5\n",
        "resultado = fatorial(numero)\n",
        "print(f\"Fatorial de {numero} é {resultado}\")\n"
      ],
      "metadata": {
        "colab": {
          "base_uri": "https://localhost:8080/"
        },
        "id": "eL3VSYaS5ur_",
        "outputId": "4b827e93-4530-4fc0-bc71-8232755abf9b"
      },
      "execution_count": 23,
      "outputs": [
        {
          "output_type": "stream",
          "name": "stdout",
          "text": [
            "Fatorial de 5 é 120\n"
          ]
        }
      ]
    },
    {
      "cell_type": "markdown",
      "source": [
        "***Exercícios***"
      ],
      "metadata": {
        "id": "5T1mu-JnALCM"
      }
    },
    {
      "cell_type": "code",
      "source": [
        "array = np.array([12, 13, 14, 15, 16, 17, 18, 19, 20, 21, 22, 23, 24, 25, 26, 27, 28, 29, 30, 31, 32, 33, 34, 35, 36, 37])\n",
        "\n",
        "array_invertido = array[::-1]\n",
        "\n",
        "print(array_invertido)\n"
      ],
      "metadata": {
        "colab": {
          "base_uri": "https://localhost:8080/"
        },
        "id": "H2KmC16w_0CT",
        "outputId": "42e5dc01-eb43-4bac-9229-fb3fb75d56e8"
      },
      "execution_count": 28,
      "outputs": [
        {
          "output_type": "stream",
          "name": "stdout",
          "text": [
            "[37 36 35 34 33 32 31 30 29 28 27 26 25 24 23 22 21 20 19 18 17 16 15 14\n",
            " 13 12]\n"
          ]
        }
      ]
    },
    {
      "cell_type": "code",
      "source": [
        "array = np.array([11, 4, 9, 234, 43, 77, 97, 45, 32])\n",
        "\n",
        "array_invertido = array[::-1]\n",
        "\n",
        "print(array_invertido)"
      ],
      "metadata": {
        "colab": {
          "base_uri": "https://localhost:8080/"
        },
        "id": "FerGP-Oz6mIs",
        "outputId": "22b5c69b-fd6c-4e9d-885b-d4d9a569fc2f"
      },
      "execution_count": 24,
      "outputs": [
        {
          "output_type": "stream",
          "name": "stdout",
          "text": [
            "[ 32  45  97  77  43 234   9   4  11]\n"
          ]
        }
      ]
    },
    {
      "cell_type": "code",
      "source": [
        "matriz = np.array([[1, 4, 3],\n",
        "                    [8, 1, 9],\n",
        "                    [5, 7, 6]])\n",
        "\n",
        "matriz_inversa = np.linalg.inv(matriz)\n",
        "\n",
        "print(matriz_inversa)"
      ],
      "metadata": {
        "colab": {
          "base_uri": "https://localhost:8080/"
        },
        "id": "ePy_mM-0668y",
        "outputId": "913a2d3f-4b08-4cd5-a050-2f0d8ae41bfa"
      },
      "execution_count": 25,
      "outputs": [
        {
          "output_type": "stream",
          "name": "stdout",
          "text": [
            "[[-0.67857143 -0.03571429  0.39285714]\n",
            " [-0.03571429 -0.10714286  0.17857143]\n",
            " [ 0.60714286  0.1547619  -0.36904762]]\n"
          ]
        }
      ]
    },
    {
      "cell_type": "code",
      "source": [
        "matriz_aleatoria = np.random.rand(5, 5)\n",
        "\n",
        "min_valor = matriz_aleatoria.min()\n",
        "max_valor = matriz_aleatoria.max()\n",
        "\n",
        "print(matriz_aleatoria)\n",
        "print(min_valor)\n",
        "print(max_valor)\n"
      ],
      "metadata": {
        "colab": {
          "base_uri": "https://localhost:8080/"
        },
        "id": "bFjeXFWI7Ur7",
        "outputId": "1c89f852-b19e-4111-8714-2032a31bd55d"
      },
      "execution_count": 26,
      "outputs": [
        {
          "output_type": "stream",
          "name": "stdout",
          "text": [
            "[[0.06115686 0.61827139 0.59940998 0.63781471 0.11362328]\n",
            " [0.97969168 0.40253829 0.43561642 0.08535814 0.40090028]\n",
            " [0.60740107 0.67452609 0.95302543 0.96260857 0.75888632]\n",
            " [0.27682482 0.35781722 0.88510433 0.60831447 0.19521193]\n",
            " [0.35936195 0.77673909 0.99619529 0.80477796 0.62761078]]\n",
            "0.06115685646141511\n",
            "0.9961952941123337\n"
          ]
        }
      ]
    },
    {
      "cell_type": "code",
      "source": [
        "matriz_aleatoria = np.random.randint(0, 101, size=(5, 5))\n",
        "\n",
        "num_maior = np.max(matriz_aleatoria)\n",
        "num_menor = np.min(matriz_aleatoria)\n",
        "\n",
        "print(matriz_aleatoria)\n",
        "print(num_maior)\n",
        "print(num_menor)"
      ],
      "metadata": {
        "colab": {
          "base_uri": "https://localhost:8080/"
        },
        "id": "PHQUD4Lj8cBX",
        "outputId": "79fa1d33-7d39-4c52-daae-d7df7130b4a5"
      },
      "execution_count": 27,
      "outputs": [
        {
          "output_type": "stream",
          "name": "stdout",
          "text": [
            "[[40 30 48  0 10]\n",
            " [76  1  4 33 73]\n",
            " [ 2  6 82 54 68]\n",
            " [65 72 88 44 40]\n",
            " [70 46 90 62 78]]\n",
            "90\n",
            "0\n"
          ]
        }
      ]
    }
  ]
}